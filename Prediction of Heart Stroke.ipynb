{
 "cells": [
  {
   "cell_type": "markdown",
   "id": "d01af4db",
   "metadata": {},
   "source": [
    "# Prediction of heart strokes using a Machine learning model (KNN) \n",
    "\n",
    "###  Pendyala, Sai Charan Suresh (PeoplesoftId: 2093975)\n"
   ]
  },
  {
   "cell_type": "markdown",
   "id": "d6e3098a",
   "metadata": {},
   "source": [
    "### Abstract:\n",
    "#### One of the major reason noticed in patient deaths in recent times has been observed in heart stroke cases. The death toll has spiked in the recent times when patients are also observed with covid symptoms and other illness. The dataset we use here has many of such attributes from which most of the information can be learned.\n",
    "####  In this context it is very important to keep track of a patient health records that gives us insight about their complete health related history and so we go through multiple attributes like familial health history, age, smoking status, gender, work type, marriage status etc. In the current era of advanced computational power that deals with complex operations  Machine learning models are best suited for this scenario due to their ability to learn different patterns from the given data before concluding with accurate results. With accuracy and ease of use perspectives in mind, KNN is the model we are going to work on for this project.  We will be displaying some accuracy metrics as well at the end to make sure that the model have performed as desired."
   ]
  },
  {
   "cell_type": "markdown",
   "id": "faba5918",
   "metadata": {},
   "source": [
    "### Some basic terminology regarding the KNN model and workflow we followed here:\n",
    "    \n",
    "#### --> What and why's of KNN:\n",
    "#### KNN is a supervised machine learning algorithm used for both classification and regressionproblems. K-NN is extremely easy to implement in its most basic form and yet can perform very well on quite complex tasks. It is a non-parametric ML model and also called as a lazy learning algorithm since it doesn’t have a specialized training phase.\n",
    "\n",
    "#### --> Implementation of KNN algorithm:\n",
    "#### 1. If the features have different scales, scale the features so that variance in each direction is 1\n",
    "#### 2. Given a new data point, calculate the distances between the new data point and all the points in the training data\n",
    "#### 3. Find K nearest training data points\n",
    "#### 4. Make the prediction on the new data point:\n",
    "  ####  – classification: majority vote, weighted majority vote\n",
    "   #### – regression: average, weighted average\n",
    "    \n",
    "#### -->  Advantages of KNN:\n",
    "#### 1. No assumptions about data\n",
    "#### 2. Simple algorithm: easy to implement and easy to understand\n",
    "#### 3. Can be used for classification and regression\n",
    "#### 4. There are only several hyper-parameters required to implement K-NN such as the value of K, distance function, and whether we want to use straightforward predictions or weighted predictions."
   ]
  },
  {
   "cell_type": "code",
   "execution_count": 15,
   "id": "6bcf8e10",
   "metadata": {},
   "outputs": [],
   "source": [
    "# Importing all basic libraries \n",
    "\n",
    "import numpy as np \n",
    "import pandas as pd\n",
    "import matplotlib.pyplot as plt\n",
    "import seaborn as sns\n",
    "\n",
    "# Loading necessary sk-learn packages \n",
    "\n",
    "from sklearn.neighbors import KNeighborsClassifier\n",
    "from sklearn.impute import SimpleImputer\n",
    "from sklearn.preprocessing import MinMaxScaler\n",
    "from sklearn.preprocessing import LabelEncoder\n",
    "from sklearn.model_selection import train_test_split\n",
    "from sklearn.metrics import confusion_matrix, classification_report,accuracy_score\n"
   ]
  },
  {
   "cell_type": "code",
   "execution_count": 16,
   "id": "7e7e9684",
   "metadata": {},
   "outputs": [],
   "source": [
    "# Since the dataset is also in the same folder as the python file, the .csv file is directly referred as shown below"
   ]
  },
  {
   "cell_type": "code",
   "execution_count": 17,
   "id": "d1d080a1",
   "metadata": {},
   "outputs": [
    {
     "data": {
      "text/html": [
       "<div>\n",
       "<style scoped>\n",
       "    .dataframe tbody tr th:only-of-type {\n",
       "        vertical-align: middle;\n",
       "    }\n",
       "\n",
       "    .dataframe tbody tr th {\n",
       "        vertical-align: top;\n",
       "    }\n",
       "\n",
       "    .dataframe thead th {\n",
       "        text-align: right;\n",
       "    }\n",
       "</style>\n",
       "<table border=\"1\" class=\"dataframe\">\n",
       "  <thead>\n",
       "    <tr style=\"text-align: right;\">\n",
       "      <th></th>\n",
       "      <th>id</th>\n",
       "      <th>gender</th>\n",
       "      <th>age</th>\n",
       "      <th>hypertension</th>\n",
       "      <th>heart_disease</th>\n",
       "      <th>ever_married</th>\n",
       "      <th>work_type</th>\n",
       "      <th>Residence_type</th>\n",
       "      <th>avg_glucose_level</th>\n",
       "      <th>bmi</th>\n",
       "      <th>smoking_status</th>\n",
       "      <th>stroke</th>\n",
       "    </tr>\n",
       "  </thead>\n",
       "  <tbody>\n",
       "    <tr>\n",
       "      <th>0</th>\n",
       "      <td>9046</td>\n",
       "      <td>Male</td>\n",
       "      <td>67.0</td>\n",
       "      <td>0</td>\n",
       "      <td>1</td>\n",
       "      <td>Yes</td>\n",
       "      <td>Private</td>\n",
       "      <td>Urban</td>\n",
       "      <td>228.69</td>\n",
       "      <td>36.6</td>\n",
       "      <td>formerly smoked</td>\n",
       "      <td>1</td>\n",
       "    </tr>\n",
       "    <tr>\n",
       "      <th>1</th>\n",
       "      <td>51676</td>\n",
       "      <td>Female</td>\n",
       "      <td>61.0</td>\n",
       "      <td>0</td>\n",
       "      <td>0</td>\n",
       "      <td>Yes</td>\n",
       "      <td>Self-employed</td>\n",
       "      <td>Rural</td>\n",
       "      <td>202.21</td>\n",
       "      <td>NaN</td>\n",
       "      <td>never smoked</td>\n",
       "      <td>1</td>\n",
       "    </tr>\n",
       "    <tr>\n",
       "      <th>2</th>\n",
       "      <td>31112</td>\n",
       "      <td>Male</td>\n",
       "      <td>80.0</td>\n",
       "      <td>0</td>\n",
       "      <td>1</td>\n",
       "      <td>Yes</td>\n",
       "      <td>Private</td>\n",
       "      <td>Rural</td>\n",
       "      <td>105.92</td>\n",
       "      <td>32.5</td>\n",
       "      <td>never smoked</td>\n",
       "      <td>1</td>\n",
       "    </tr>\n",
       "    <tr>\n",
       "      <th>3</th>\n",
       "      <td>60182</td>\n",
       "      <td>Female</td>\n",
       "      <td>49.0</td>\n",
       "      <td>0</td>\n",
       "      <td>0</td>\n",
       "      <td>Yes</td>\n",
       "      <td>Private</td>\n",
       "      <td>Urban</td>\n",
       "      <td>171.23</td>\n",
       "      <td>34.4</td>\n",
       "      <td>smokes</td>\n",
       "      <td>1</td>\n",
       "    </tr>\n",
       "    <tr>\n",
       "      <th>4</th>\n",
       "      <td>1665</td>\n",
       "      <td>Female</td>\n",
       "      <td>79.0</td>\n",
       "      <td>1</td>\n",
       "      <td>0</td>\n",
       "      <td>Yes</td>\n",
       "      <td>Self-employed</td>\n",
       "      <td>Rural</td>\n",
       "      <td>174.12</td>\n",
       "      <td>24.0</td>\n",
       "      <td>never smoked</td>\n",
       "      <td>1</td>\n",
       "    </tr>\n",
       "  </tbody>\n",
       "</table>\n",
       "</div>"
      ],
      "text/plain": [
       "      id  gender   age  hypertension  heart_disease ever_married  \\\n",
       "0   9046    Male  67.0             0              1          Yes   \n",
       "1  51676  Female  61.0             0              0          Yes   \n",
       "2  31112    Male  80.0             0              1          Yes   \n",
       "3  60182  Female  49.0             0              0          Yes   \n",
       "4   1665  Female  79.0             1              0          Yes   \n",
       "\n",
       "       work_type Residence_type  avg_glucose_level   bmi   smoking_status  \\\n",
       "0        Private          Urban             228.69  36.6  formerly smoked   \n",
       "1  Self-employed          Rural             202.21   NaN     never smoked   \n",
       "2        Private          Rural             105.92  32.5     never smoked   \n",
       "3        Private          Urban             171.23  34.4           smokes   \n",
       "4  Self-employed          Rural             174.12  24.0     never smoked   \n",
       "\n",
       "   stroke  \n",
       "0       1  \n",
       "1       1  \n",
       "2       1  \n",
       "3       1  \n",
       "4       1  "
      ]
     },
     "execution_count": 17,
     "metadata": {},
     "output_type": "execute_result"
    }
   ],
   "source": [
    "# Dataset\n",
    "ms = pd.read_csv('healthcare-dataset-stroke-data.csv')\n",
    "ms.head()"
   ]
  },
  {
   "cell_type": "code",
   "execution_count": 24,
   "id": "87b7d496",
   "metadata": {},
   "outputs": [],
   "source": [
    "# Checking and replacing null values if any\n",
    "\n",
    "ms['bmi'].fillna(value=ms['bmi'].mean(),inplace=True)"
   ]
  },
  {
   "cell_type": "markdown",
   "id": "f88dd41d",
   "metadata": {},
   "source": [
    "# Data Preprocessing\n"
   ]
  },
  {
   "cell_type": "code",
   "execution_count": 25,
   "id": "a463e5b2",
   "metadata": {},
   "outputs": [],
   "source": [
    "# from sklearn.neighbors import KNeighborsClassifier\n",
    "#from sklearn.metrics import confusion_matrix, accuracy_score, classification_report\n",
    "\n",
    "X = ms[[ 'avg_glucose_level', 'age','bmi']]\n",
    "y = ms['stroke']"
   ]
  },
  {
   "cell_type": "markdown",
   "id": "d510b915",
   "metadata": {},
   "source": [
    "### Encoding Categorical Variables\n",
    "\n",
    "A categorical variable has a finite number of categories or labels for its values. For example, Gender is a categorical variable that can take “Male” and “Female” for its values.\n"
   ]
  },
  {
   "cell_type": "code",
   "execution_count": 26,
   "id": "d30879a1",
   "metadata": {},
   "outputs": [
    {
     "data": {
      "text/html": [
       "<div>\n",
       "<style scoped>\n",
       "    .dataframe tbody tr th:only-of-type {\n",
       "        vertical-align: middle;\n",
       "    }\n",
       "\n",
       "    .dataframe tbody tr th {\n",
       "        vertical-align: top;\n",
       "    }\n",
       "\n",
       "    .dataframe thead th {\n",
       "        text-align: right;\n",
       "    }\n",
       "</style>\n",
       "<table border=\"1\" class=\"dataframe\">\n",
       "  <thead>\n",
       "    <tr style=\"text-align: right;\">\n",
       "      <th></th>\n",
       "      <th>id</th>\n",
       "      <th>gender</th>\n",
       "      <th>age</th>\n",
       "      <th>hypertension</th>\n",
       "      <th>heart_disease</th>\n",
       "      <th>ever_married</th>\n",
       "      <th>work_type</th>\n",
       "      <th>Residence_type</th>\n",
       "      <th>avg_glucose_level</th>\n",
       "      <th>bmi</th>\n",
       "      <th>smoking_status</th>\n",
       "      <th>stroke</th>\n",
       "    </tr>\n",
       "  </thead>\n",
       "  <tbody>\n",
       "    <tr>\n",
       "      <th>0</th>\n",
       "      <td>9046</td>\n",
       "      <td>1</td>\n",
       "      <td>67.0</td>\n",
       "      <td>0</td>\n",
       "      <td>1</td>\n",
       "      <td>Yes</td>\n",
       "      <td>Private</td>\n",
       "      <td>Urban</td>\n",
       "      <td>228.69</td>\n",
       "      <td>36.600000</td>\n",
       "      <td>formerly smoked</td>\n",
       "      <td>1</td>\n",
       "    </tr>\n",
       "    <tr>\n",
       "      <th>1</th>\n",
       "      <td>51676</td>\n",
       "      <td>0</td>\n",
       "      <td>61.0</td>\n",
       "      <td>0</td>\n",
       "      <td>0</td>\n",
       "      <td>Yes</td>\n",
       "      <td>Self-employed</td>\n",
       "      <td>Rural</td>\n",
       "      <td>202.21</td>\n",
       "      <td>28.893237</td>\n",
       "      <td>never smoked</td>\n",
       "      <td>1</td>\n",
       "    </tr>\n",
       "    <tr>\n",
       "      <th>2</th>\n",
       "      <td>31112</td>\n",
       "      <td>1</td>\n",
       "      <td>80.0</td>\n",
       "      <td>0</td>\n",
       "      <td>1</td>\n",
       "      <td>Yes</td>\n",
       "      <td>Private</td>\n",
       "      <td>Rural</td>\n",
       "      <td>105.92</td>\n",
       "      <td>32.500000</td>\n",
       "      <td>never smoked</td>\n",
       "      <td>1</td>\n",
       "    </tr>\n",
       "    <tr>\n",
       "      <th>3</th>\n",
       "      <td>60182</td>\n",
       "      <td>0</td>\n",
       "      <td>49.0</td>\n",
       "      <td>0</td>\n",
       "      <td>0</td>\n",
       "      <td>Yes</td>\n",
       "      <td>Private</td>\n",
       "      <td>Urban</td>\n",
       "      <td>171.23</td>\n",
       "      <td>34.400000</td>\n",
       "      <td>smokes</td>\n",
       "      <td>1</td>\n",
       "    </tr>\n",
       "    <tr>\n",
       "      <th>4</th>\n",
       "      <td>1665</td>\n",
       "      <td>0</td>\n",
       "      <td>79.0</td>\n",
       "      <td>1</td>\n",
       "      <td>0</td>\n",
       "      <td>Yes</td>\n",
       "      <td>Self-employed</td>\n",
       "      <td>Rural</td>\n",
       "      <td>174.12</td>\n",
       "      <td>24.000000</td>\n",
       "      <td>never smoked</td>\n",
       "      <td>1</td>\n",
       "    </tr>\n",
       "    <tr>\n",
       "      <th>...</th>\n",
       "      <td>...</td>\n",
       "      <td>...</td>\n",
       "      <td>...</td>\n",
       "      <td>...</td>\n",
       "      <td>...</td>\n",
       "      <td>...</td>\n",
       "      <td>...</td>\n",
       "      <td>...</td>\n",
       "      <td>...</td>\n",
       "      <td>...</td>\n",
       "      <td>...</td>\n",
       "      <td>...</td>\n",
       "    </tr>\n",
       "    <tr>\n",
       "      <th>5105</th>\n",
       "      <td>18234</td>\n",
       "      <td>0</td>\n",
       "      <td>80.0</td>\n",
       "      <td>1</td>\n",
       "      <td>0</td>\n",
       "      <td>Yes</td>\n",
       "      <td>Private</td>\n",
       "      <td>Urban</td>\n",
       "      <td>83.75</td>\n",
       "      <td>28.893237</td>\n",
       "      <td>never smoked</td>\n",
       "      <td>0</td>\n",
       "    </tr>\n",
       "    <tr>\n",
       "      <th>5106</th>\n",
       "      <td>44873</td>\n",
       "      <td>0</td>\n",
       "      <td>81.0</td>\n",
       "      <td>0</td>\n",
       "      <td>0</td>\n",
       "      <td>Yes</td>\n",
       "      <td>Self-employed</td>\n",
       "      <td>Urban</td>\n",
       "      <td>125.20</td>\n",
       "      <td>40.000000</td>\n",
       "      <td>never smoked</td>\n",
       "      <td>0</td>\n",
       "    </tr>\n",
       "    <tr>\n",
       "      <th>5107</th>\n",
       "      <td>19723</td>\n",
       "      <td>0</td>\n",
       "      <td>35.0</td>\n",
       "      <td>0</td>\n",
       "      <td>0</td>\n",
       "      <td>Yes</td>\n",
       "      <td>Self-employed</td>\n",
       "      <td>Rural</td>\n",
       "      <td>82.99</td>\n",
       "      <td>30.600000</td>\n",
       "      <td>never smoked</td>\n",
       "      <td>0</td>\n",
       "    </tr>\n",
       "    <tr>\n",
       "      <th>5108</th>\n",
       "      <td>37544</td>\n",
       "      <td>1</td>\n",
       "      <td>51.0</td>\n",
       "      <td>0</td>\n",
       "      <td>0</td>\n",
       "      <td>Yes</td>\n",
       "      <td>Private</td>\n",
       "      <td>Rural</td>\n",
       "      <td>166.29</td>\n",
       "      <td>25.600000</td>\n",
       "      <td>formerly smoked</td>\n",
       "      <td>0</td>\n",
       "    </tr>\n",
       "    <tr>\n",
       "      <th>5109</th>\n",
       "      <td>44679</td>\n",
       "      <td>0</td>\n",
       "      <td>44.0</td>\n",
       "      <td>0</td>\n",
       "      <td>0</td>\n",
       "      <td>Yes</td>\n",
       "      <td>Govt_job</td>\n",
       "      <td>Urban</td>\n",
       "      <td>85.28</td>\n",
       "      <td>26.200000</td>\n",
       "      <td>Unknown</td>\n",
       "      <td>0</td>\n",
       "    </tr>\n",
       "  </tbody>\n",
       "</table>\n",
       "<p>5110 rows × 12 columns</p>\n",
       "</div>"
      ],
      "text/plain": [
       "         id  gender   age  hypertension  heart_disease ever_married  \\\n",
       "0      9046       1  67.0             0              1          Yes   \n",
       "1     51676       0  61.0             0              0          Yes   \n",
       "2     31112       1  80.0             0              1          Yes   \n",
       "3     60182       0  49.0             0              0          Yes   \n",
       "4      1665       0  79.0             1              0          Yes   \n",
       "...     ...     ...   ...           ...            ...          ...   \n",
       "5105  18234       0  80.0             1              0          Yes   \n",
       "5106  44873       0  81.0             0              0          Yes   \n",
       "5107  19723       0  35.0             0              0          Yes   \n",
       "5108  37544       1  51.0             0              0          Yes   \n",
       "5109  44679       0  44.0             0              0          Yes   \n",
       "\n",
       "          work_type Residence_type  avg_glucose_level        bmi  \\\n",
       "0           Private          Urban             228.69  36.600000   \n",
       "1     Self-employed          Rural             202.21  28.893237   \n",
       "2           Private          Rural             105.92  32.500000   \n",
       "3           Private          Urban             171.23  34.400000   \n",
       "4     Self-employed          Rural             174.12  24.000000   \n",
       "...             ...            ...                ...        ...   \n",
       "5105        Private          Urban              83.75  28.893237   \n",
       "5106  Self-employed          Urban             125.20  40.000000   \n",
       "5107  Self-employed          Rural              82.99  30.600000   \n",
       "5108        Private          Rural             166.29  25.600000   \n",
       "5109       Govt_job          Urban              85.28  26.200000   \n",
       "\n",
       "       smoking_status  stroke  \n",
       "0     formerly smoked       1  \n",
       "1        never smoked       1  \n",
       "2        never smoked       1  \n",
       "3              smokes       1  \n",
       "4        never smoked       1  \n",
       "...               ...     ...  \n",
       "5105     never smoked       0  \n",
       "5106     never smoked       0  \n",
       "5107     never smoked       0  \n",
       "5108  formerly smoked       0  \n",
       "5109          Unknown       0  \n",
       "\n",
       "[5110 rows x 12 columns]"
      ]
     },
     "execution_count": 26,
     "metadata": {},
     "output_type": "execute_result"
    }
   ],
   "source": [
    "# Using Lable encoder to enhance the algorithm performance.\n",
    "le_gender = LabelEncoder()\n",
    "ms['gender'] = le_gender.fit_transform(ms['gender'])\n",
    "#Displaying ms\n",
    "ms"
   ]
  },
  {
   "cell_type": "markdown",
   "id": "f3c9f7e7",
   "metadata": {},
   "source": [
    "## Model Preparation\n"
   ]
  },
  {
   "cell_type": "markdown",
   "id": "df090db2",
   "metadata": {},
   "source": [
    "### Initially, we will prepare the model by splitting it into training set and test set."
   ]
  },
  {
   "cell_type": "code",
   "execution_count": 27,
   "id": "842396b2",
   "metadata": {},
   "outputs": [],
   "source": [
    "# X and y hold assumed and output features in the model.\n",
    "X_train, X_test, y_train, y_test = train_test_split(X, y, test_size=0.20)"
   ]
  },
  {
   "cell_type": "markdown",
   "id": "a385c762",
   "metadata": {},
   "source": [
    "### After splitting, we now scale the data to normalize the assortment of separate data elements or attributes."
   ]
  },
  {
   "cell_type": "code",
   "execution_count": 28,
   "id": "c5d1426a",
   "metadata": {},
   "outputs": [],
   "source": [
    "#The k-nearest neighbor algorithm relies on majority voting based on class membership of 'k' nearest samples for a given test point. \n",
    "#The nearness of samples is typically based on Euclidean distance.  So we use MinMaxscaler for this algorithm.\n",
    "scaler = MinMaxScaler()\n",
    "\n",
    "X_train_scaled= scaler.fit_transform(X_train)\n",
    "X_test_scaled = scaler.transform(X_test)"
   ]
  },
  {
   "cell_type": "markdown",
   "id": "cd2dd106",
   "metadata": {},
   "source": [
    "### We now fit the model to KNN"
   ]
  },
  {
   "cell_type": "code",
   "execution_count": 29,
   "id": "d804c792",
   "metadata": {},
   "outputs": [
    {
     "name": "stderr",
     "output_type": "stream",
     "text": [
      "C:\\Users\\silvi\\anaconda3\\lib\\site-packages\\sklearn\\base.py:450: UserWarning: X does not have valid feature names, but KNeighborsClassifier was fitted with feature names\n",
      "  warnings.warn(\n"
     ]
    },
    {
     "data": {
      "text/plain": [
       "array([0, 0, 0, ..., 0, 0, 0], dtype=int64)"
      ]
     },
     "execution_count": 29,
     "metadata": {},
     "output_type": "execute_result"
    }
   ],
   "source": [
    "#Using the default KNN method from the sk-learn library to fit the data.\n",
    "model = KNeighborsClassifier(n_neighbors=7)\n",
    "model.fit(X_train, y_train);\n",
    "\n",
    "y_pred = model.predict(X_test_scaled)\n",
    "y_pred"
   ]
  },
  {
   "cell_type": "markdown",
   "id": "5431eeb8",
   "metadata": {},
   "source": [
    "## Evaluating the model using confusion matrix and other metrics\n",
    "\n",
    "Confusion matrix is a table that is used to define the performance of a classification algorithm. A confusion matrix visualizes and summarizes the performance of a classification algorithm.\n",
    "\n",
    "* Accuracy:\n",
    "  It is the proportion of forecasts that are accurate.\n",
    "   \n",
    "      Accuracy = TP + TN / TP + TN + FP + FN\n",
    "   \n",
    "* F1-Score: \n",
    "  For each class, F1-score is defined as the harmonic average of recall and precision.\n",
    "\n",
    "      F1 = 2 * Recall / Precision Recall + Precision\n",
    "\n",
    "\n",
    "\n",
    "* Precision: \n",
    "  The accuracy rate of positive predictions is measured by precision. \n",
    "\n",
    "      Precision = TP / TP + FP \n",
    "  \n",
    "  \n",
    "* Recall: \n",
    "  The proportion of correctly identified positive observations is known as recall. \n",
    "      \n",
    "          Recall = TP / TP + FN \n",
    "\n",
    "\n"
   ]
  },
  {
   "cell_type": "code",
   "execution_count": 30,
   "id": "003224cc",
   "metadata": {},
   "outputs": [
    {
     "name": "stderr",
     "output_type": "stream",
     "text": [
      "C:\\Users\\silvi\\anaconda3\\lib\\site-packages\\sklearn\\base.py:450: UserWarning: X does not have valid feature names, but KNeighborsClassifier was fitted with feature names\n",
      "  warnings.warn(\n"
     ]
    },
    {
     "data": {
      "text/plain": [
       "0.9503424657534246"
      ]
     },
     "execution_count": 30,
     "metadata": {},
     "output_type": "execute_result"
    }
   ],
   "source": [
    "#Accuracy score of trained model\n",
    "model.score(X_train_scaled, y_train)"
   ]
  },
  {
   "cell_type": "code",
   "execution_count": 31,
   "id": "302d8c43",
   "metadata": {
    "scrolled": true
   },
   "outputs": [
    {
     "name": "stderr",
     "output_type": "stream",
     "text": [
      "C:\\Users\\silvi\\anaconda3\\lib\\site-packages\\sklearn\\base.py:450: UserWarning: X does not have valid feature names, but KNeighborsClassifier was fitted with feature names\n",
      "  warnings.warn(\n"
     ]
    },
    {
     "data": {
      "text/plain": [
       "0.9549902152641878"
      ]
     },
     "execution_count": 31,
     "metadata": {},
     "output_type": "execute_result"
    }
   ],
   "source": [
    "#Accuracy score of tested model\n",
    "\n",
    "model.score(X_test_scaled, y_test)"
   ]
  },
  {
   "cell_type": "code",
   "execution_count": 32,
   "id": "19b677ab",
   "metadata": {
    "scrolled": true
   },
   "outputs": [
    {
     "data": {
      "text/plain": [
       "array([[976,   0],\n",
       "       [ 46,   0]], dtype=int64)"
      ]
     },
     "execution_count": 32,
     "metadata": {},
     "output_type": "execute_result"
    }
   ],
   "source": [
    "cm = confusion_matrix(y_test, y_pred)\n",
    "cm"
   ]
  },
  {
   "cell_type": "code",
   "execution_count": 39,
   "id": "ca2b913a",
   "metadata": {
    "scrolled": true
   },
   "outputs": [
    {
     "data": {
      "image/png": "[encoded data removed]",
      "text/plain": [
       "<Figure size 504x360 with 2 Axes>"
      ]
     },
     "metadata": {
      "needs_background": "light"
     },
     "output_type": "display_data"
    }
   ],
   "source": [
    "#Plotting the heat map\n",
    "plt.figure(figsize = (7,5))\n",
    "sns.heatmap(cm, annot=True, cmap =\"viridis\")\n",
    "plt.xlabel('Predicted', fontsize=18)\n",
    "plt.ylabel('Observed', fontsize=14);"
   ]
  },
  {
   "cell_type": "markdown",
   "id": "c2d27efb",
   "metadata": {},
   "source": [
    "### By producing a classification report, it explains all evaluation metrics.\n"
   ]
  },
  {
   "cell_type": "code",
   "execution_count": 40,
   "id": "86001161",
   "metadata": {
    "scrolled": true
   },
   "outputs": [
    {
     "name": "stdout",
     "output_type": "stream",
     "text": [
      "              precision    recall  f1-score   support\n",
      "\n",
      "           0       0.95      1.00      0.98       976\n",
      "           1       0.00      0.00      0.00        46\n",
      "\n",
      "    accuracy                           0.95      1022\n",
      "   macro avg       0.48      0.50      0.49      1022\n",
      "weighted avg       0.91      0.95      0.93      1022\n",
      "\n"
     ]
    },
    {
     "name": "stderr",
     "output_type": "stream",
     "text": [
      "C:\\Users\\silvi\\anaconda3\\lib\\site-packages\\sklearn\\metrics\\_classification.py:1334: UndefinedMetricWarning: Precision and F-score are ill-defined and being set to 0.0 in labels with no predicted samples. Use `zero_division` parameter to control this behavior.\n",
      "  _warn_prf(average, modifier, msg_start, len(result))\n",
      "C:\\Users\\silvi\\anaconda3\\lib\\site-packages\\sklearn\\metrics\\_classification.py:1334: UndefinedMetricWarning: Precision and F-score are ill-defined and being set to 0.0 in labels with no predicted samples. Use `zero_division` parameter to control this behavior.\n",
      "  _warn_prf(average, modifier, msg_start, len(result))\n",
      "C:\\Users\\silvi\\anaconda3\\lib\\site-packages\\sklearn\\metrics\\_classification.py:1334: UndefinedMetricWarning: Precision and F-score are ill-defined and being set to 0.0 in labels with no predicted samples. Use `zero_division` parameter to control this behavior.\n",
      "  _warn_prf(average, modifier, msg_start, len(result))\n"
     ]
    }
   ],
   "source": [
    "print(classification_report(y_test, y_pred))\n"
   ]
  },
  {
   "cell_type": "markdown",
   "id": "af9188db",
   "metadata": {},
   "source": [
    "## Plotting the accuracy score on Validation Data "
   ]
  },
  {
   "cell_type": "code",
   "execution_count": 48,
   "id": "b225b916",
   "metadata": {
    "scrolled": true
   },
   "outputs": [
    {
     "data": {
      "image/png": "[encoded data removed]",
      "text/plain": [
       "<Figure size 504x360 with 1 Axes>"
      ]
     },
     "metadata": {
      "needs_background": "light"
     },
     "output_type": "display_data"
    }
   ],
   "source": [
    "k_vals = []\n",
    "accuracy_sc = []\n",
    "\n",
    "for k in range(1, 50, 2):\n",
    "    model = KNeighborsClassifier(n_neighbors = k)\n",
    "    model.fit(X_train, y_train)\n",
    "    y_pred = model.predict(X_test)\n",
    "    accuracy_sc.append(accuracy_score(y_test, y_pred))\n",
    "    k_vals.append(k)\n",
    "\n",
    "\n",
    "plt.figure(figsize = (7, 5))\n",
    "\n",
    "plt.plot(k_values, accuracy_sc, marker = \"o\")\n",
    "plt.title(\"Accuracy display graph with KNN\")\n",
    "plt.xlabel(\"k-values\")\n",
    "plt.ylabel(\"Accuracy metric\")\n",
    "plt.xticks(k_vals)\n",
    "plt.grid();"
   ]
  },
  {
   "cell_type": "markdown",
   "id": "c86daa6b",
   "metadata": {},
   "source": [
    "### As observed , the accuracy has come out around 95% with the dataset we have. There are many other alternate models like Extreme Gradient Boost, \n",
    "### Support vector Machine, Random forest which can yield an accuracy of about same percent. But with the ease of use point, KNN is preferred over them."
   ]
  },
  {
   "cell_type": "code",
   "execution_count": null,
   "id": "184398fb",
   "metadata": {},
   "outputs": [],
   "source": []
  }
 ],
 "metadata": {
  "kernelspec": {
   "display_name": "Python 3 (ipykernel)",
   "language": "python",
   "name": "python3"
  },
  "language_info": {
   "codemirror_mode": {
    "name": "ipython",
    "version": 3
   },
   "file_extension": ".py",
   "mimetype": "text/x-python",
   "name": "python",
   "nbconvert_exporter": "python",
   "pygments_lexer": "ipython3",
   "version": "3.9.12"
  }
 },
 "nbformat": 4,
 "nbformat_minor": 5
}
